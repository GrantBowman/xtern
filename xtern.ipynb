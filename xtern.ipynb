

xtern.ipynb
xtern.ipynb_
[ ]
import numpy as np
import pandas as pd
import matplotlib.pyplot as plt
​
​
print("hello world")

[ ]
data = pd.read_csv("scooters.csv")
print(data.shape)
print(data.columns)
# print(data.iloc[[0,1], ["xcoordinate","ycoordinate"]])
print(data.iloc[[0,1], [1, 2]])
​

[ ]
​
n = len(data)
for i in range(0,n//5):
  xpt = data.iloc[5*i, [1]].to_list()
  ypt = data.iloc[5*i, [2]].to_list()
  plt.plot(xpt, ypt, 'o')
# for i in range(n-1000, n):
#   xpt = data.iloc[i, [1]].to_list()
#   ypt = data.iloc[i, [2]].to_list()
#   plt.plot(xpt, ypt, 'o')
plt.show()
# xpt = [x for x in data[["xcoordinate"]]]
# ypt = [y for y in data[["ycoordinate"]]]
# print(xpt)
# print(data[["xcoordinate"]])
​
  
  
  

As you can see, a lot of the scooters are around 2 main clumps centered around (0,0) and (1,1). There is a good mix of them around both, so I would suggest driving around each half collect scooters before releasing them there and repeating at the other half. Doing this would reduce the cost of transportation by a comparably large amount compared to constant moving. There are 10 spots to hit in clump 0, and 9 spots to hit in clump 1.

[ ]
​
data2 = data[data["power_level"]<=1]
​
n = len(data2)
for i in range(0,n//5):
  xpt = data2.iloc[5*i, [1]].to_list()
  ypt = data2.iloc[5*i, [2]].to_list()
  plt.plot(xpt, ypt, 'o')
# for i in range(n-1000, n):
#   xpt = data.iloc[i, [1]].to_list()
#   ypt = data.iloc[i, [2]].to_list()
#   plt.plot(xpt, ypt, 'o')
plt.show()
# xpt = [x for x in data[["xcoordinate"]]]
# ypt = [y for y in data[["ycoordinate"]]]
# print(xpt)
# print(data[["xcoordinate"]])
​
  
  
  

​
data2 = data[data["power_level"]>=4]
​
n = len(data2)
for i in range(0,n//5):
  xpt = data2.iloc[5*i, [1]].to_list()
  ypt = data2.iloc[5*i, [2]].to_list()
  plt.plot(xpt, ypt, 'o')
# for i in range(n-1000, n):
#   xpt = data.iloc[i, [1]].to_list()
#   ypt = data.iloc[i, [2]].to_list()
#   plt.plot(xpt, ypt, 'o')
plt.show()
# xpt = [x for x in data[["xcoordinate"]]]
# ypt = [y for y in data[["ycoordinate"]]]
# print(xpt)
# print(data[["xcoordinate"]])
​
  
  
  


Runtime disconnected
